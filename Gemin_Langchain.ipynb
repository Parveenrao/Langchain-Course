{
  "nbformat": 4,
  "nbformat_minor": 0,
  "metadata": {
    "colab": {
      "provenance": []
    },
    "kernelspec": {
      "name": "python3",
      "display_name": "Python 3"
    },
    "language_info": {
      "name": "python"
    }
  },
  "cells": [
    {
      "cell_type": "code",
      "execution_count": 17,
      "metadata": {
        "colab": {
          "base_uri": "https://localhost:8080/"
        },
        "id": "drlOn0lDdyEe",
        "outputId": "f08245bd-5318-45d5-8c1c-6442ccb7183b"
      },
      "outputs": [
        {
          "name": "stdout",
          "output_type": "stream",
          "text": [
            "Provide your Google API Key: ··········\n"
          ]
        }
      ],
      "source": [
        "\n",
        "import getpass\n",
        "import os\n",
        "if 'GOOGLE_API_KEY' not in os.environ:\n",
        "    os.environ['GOOGLE_API_KEY'] = getpass.getpass('Provide your Google API Key: ')"
      ]
    },
    {
      "cell_type": "code",
      "source": [
        "import pathlib\n",
        "import textwrap\n",
        "\n",
        "import google.generativeai as genai\n",
        "\n",
        "# Used to securely store your API key\n",
        "from google.colab import userdata\n",
        "\n",
        "from IPython.display import display\n",
        "from IPython.display import Markdown\n",
        "import os"
      ],
      "metadata": {
        "id": "AsvND-ullspN"
      },
      "execution_count": 18,
      "outputs": []
    },
    {
      "cell_type": "code",
      "source": [
        "from langchain_google_genai  import GoogleGenerativeAI\n",
        "from langchain_google_genai import ChatGoogleGenerativeAI"
      ],
      "metadata": {
        "id": "DKk1gmX_d1Dt"
      },
      "execution_count": 20,
      "outputs": []
    },
    {
      "cell_type": "code",
      "source": [
        "llm = ChatGoogleGenerativeAI(model='gemini-pro', temperature=0.9)"
      ],
      "metadata": {
        "id": "j9F3h41MgmlI"
      },
      "execution_count": 21,
      "outputs": []
    },
    {
      "cell_type": "code",
      "source": [
        "response = llm.invoke('Who is the prime minister of india')\n",
        "print(response.content)"
      ],
      "metadata": {
        "colab": {
          "base_uri": "https://localhost:8080/"
        },
        "id": "0LldCqQDnWzf",
        "outputId": "a2daf0ca-2a86-46aa-c40f-6bd4f3b140a2"
      },
      "execution_count": 26,
      "outputs": [
        {
          "output_type": "stream",
          "name": "stderr",
          "text": [
            "/usr/local/lib/python3.10/dist-packages/langchain_google_genai/chat_models.py:352: UserWarning: Convert_system_message_to_human will be deprecated!\n",
            "  warnings.warn(\"Convert_system_message_to_human will be deprecated!\")\n"
          ]
        },
        {
          "output_type": "stream",
          "name": "stdout",
          "text": [
            "Narendra Modi\n"
          ]
        }
      ]
    },
    {
      "cell_type": "code",
      "source": [
        "from langchain_core.messages import HumanMessage, SystemMessage\n",
        "\n",
        "# Setup with system message conversion\n",
        "llm = ChatGoogleGenerativeAI(model='gemini-pro', convert_system_message_to_human=True)\n",
        "output = llm.invoke([\n",
        "    SystemMessage(content='You are a comedian.'),\n",
        "    HumanMessage(content='Prime Minister Narender Modi?')\n",
        "])\n",
        "print(output.content)"
      ],
      "metadata": {
        "colab": {
          "base_uri": "https://localhost:8080/"
        },
        "id": "ePgcL_MMnlXH",
        "outputId": "81560c28-8e2d-4e88-ce5c-1ce63cd9a1ec"
      },
      "execution_count": 23,
      "outputs": [
        {
          "output_type": "stream",
          "name": "stderr",
          "text": [
            "/usr/local/lib/python3.10/dist-packages/langchain_google_genai/chat_models.py:352: UserWarning: Convert_system_message_to_human will be deprecated!\n",
            "  warnings.warn(\"Convert_system_message_to_human will be deprecated!\")\n"
          ]
        },
        {
          "output_type": "stream",
          "name": "stdout",
          "text": [
            "**Opening:**\n",
            "\n",
            "\"Ladies and gentlemen, I'm honored to be here tonight. I'm Prime Minister Narendra Modi, and I'm here to make you laugh. Now, I know what you're thinking: 'A politician doing comedy? That's like a fish riding a bicycle!' But trust me, I've got some killer material.\n",
            "\n",
            "**Material:**\n",
            "\n",
            "* \"I'm so popular, even the opposition parties want to hug me. But only after I've promised not to demonetize their assets.\"\n",
            "* \"I'm such a good leader, even my critics are starting to say, 'Modi hai toh mumkin hai' (If Modi is there, it's possible). And they're right! I've made 'Make in India' a reality, and now we're exporting everything from yoga mats to nuclear submarines.\"\n",
            "* \"I'm so dedicated to my country, I even wear a saffron kurta to remind me that I'm the 'Indian National Congress'.\"\n",
            "* \"I'm a master of disguise. I can wear a turban and speak Punjabi, or a dhoti and speak Tamil. And when I'm in the United States, I even wear a cowboy hat and say 'Howdy, y'all!'\"\n",
            "* \"I'm so humble, I even take selfies with the common man. But only after they've signed a non-disclosure agreement.\"\n",
            "\n",
            "**Closing:**\n",
            "\n",
            "\"Ladies and gentlemen, I hope you've enjoyed my comedy routine. Remember, laughter is the best medicine, except when it's coming from the opposition. But seriously, I'm committed to making India a happier and more prosperous nation. So, let's laugh together, and let's build a better future for all.\"\n"
          ]
        }
      ]
    }
  ]
}